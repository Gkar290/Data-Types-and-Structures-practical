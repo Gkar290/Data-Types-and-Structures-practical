{
  "nbformat": 4,
  "nbformat_minor": 0,
  "metadata": {
    "colab": {
      "provenance": []
    },
    "kernelspec": {
      "name": "python3",
      "display_name": "Python 3"
    },
    "language_info": {
      "name": "python"
    }
  },
  "cells": [
    {
      "cell_type": "code",
      "execution_count": null,
      "metadata": {
        "colab": {
          "base_uri": "https://localhost:8080/"
        },
        "id": "K0e3vOTKczbt",
        "outputId": "719e4a23-9dbd-478c-c898-3fb3841a85ac"
      },
      "outputs": [
        {
          "output_type": "stream",
          "name": "stdout",
          "text": [
            "Gaurab\n"
          ]
        }
      ],
      "source": [
        "#QSN-1-Write a code to create a string with your name and print it.\n",
        "my_name = \"Gaurab\"\n",
        "\n",
        "#Print the string\n",
        "print(my_name)\n"
      ]
    },
    {
      "cell_type": "code",
      "source": [
        "#QSN-2-Write a code to find the length of the string \"Hello World\".\n",
        "task = \"Hello World\"\n",
        "\n",
        "# Use the len() function to find the length of the string\n",
        "length = len(task)\n",
        "\n",
        "# Print the length\n",
        "print(\"Length of the string:\", length)\n"
      ],
      "metadata": {
        "colab": {
          "base_uri": "https://localhost:8080/"
        },
        "id": "75jhTd9beFrl",
        "outputId": "7f385be9-74e2-4dc0-e0dd-049609b9ad50"
      },
      "execution_count": null,
      "outputs": [
        {
          "output_type": "stream",
          "name": "stdout",
          "text": [
            "Length of the string: 11\n"
          ]
        }
      ]
    },
    {
      "cell_type": "code",
      "source": [
        "#QSN-3-Write a code to slice the first 3 characters from the string \"Python Programming\".\n",
        "task2 = \"Python Programming\"\n",
        "\n",
        "# Slice the first 3 characters\n",
        "sliced_string = task2[:3]\n",
        "\n",
        "# Print the sliced string\n",
        "print(\"First 3 characters:\", sliced_string)\n",
        "\n"
      ],
      "metadata": {
        "colab": {
          "base_uri": "https://localhost:8080/"
        },
        "id": "p9R1U9_UetXU",
        "outputId": "3759a882-3ef8-4468-893e-695cb2c5fc73"
      },
      "execution_count": null,
      "outputs": [
        {
          "output_type": "stream",
          "name": "stdout",
          "text": [
            "First 3 characters: Pyt\n"
          ]
        }
      ]
    },
    {
      "cell_type": "code",
      "source": [
        "#QSN-4-Write a code to convert the string \"hello\" to uppercase.\n",
        "task3 = \"hello\"\n",
        "\n",
        "# Use the upper() method to convert to uppercase\n",
        "uppercase_task = task3.upper()\n",
        "\n",
        "# Print the uppercase string\n",
        "print(\"Uppercase string:\", uppercase_task)\n"
      ],
      "metadata": {
        "colab": {
          "base_uri": "https://localhost:8080/"
        },
        "id": "1c4rsWcCfwOc",
        "outputId": "30972c13-48e6-43c5-da78-d0358723dbf8"
      },
      "execution_count": null,
      "outputs": [
        {
          "output_type": "stream",
          "name": "stdout",
          "text": [
            "Uppercase string: HELLO\n"
          ]
        }
      ]
    },
    {
      "cell_type": "code",
      "source": [
        "#QSN-5-Write a code to replace the word \"apple\" with \"orange\" in the string \"I like apple\".\n",
        "task4 = \"I like apple\"\n",
        "\n",
        "# Use the replace() method to replace \"apple\" with \"orange\"\n",
        "new_task = task4.replace(\"apple\", \"orange\")\n",
        "\n",
        "# Print the new string\n",
        "print(\"New task:\", new_task)\n"
      ],
      "metadata": {
        "colab": {
          "base_uri": "https://localhost:8080/"
        },
        "id": "hW7o9U82gpDY",
        "outputId": "b21872ba-1a3b-4808-d21f-8833fb6bd135"
      },
      "execution_count": null,
      "outputs": [
        {
          "output_type": "stream",
          "name": "stdout",
          "text": [
            "New task: I like orange\n"
          ]
        }
      ]
    },
    {
      "cell_type": "code",
      "source": [
        "#QSN-7-Write a code to create a list with numbers 1 to 5 and print it.\n",
        "task5 = list(range(1, 6))\n",
        "\n",
        "# Print the list\n",
        "print(\"List of task5:\", task5)\n"
      ],
      "metadata": {
        "colab": {
          "base_uri": "https://localhost:8080/"
        },
        "id": "5itYN4WNheoU",
        "outputId": "5a2da30d-7664-4bdb-be6d-34f7f11c5cbd"
      },
      "execution_count": null,
      "outputs": [
        {
          "output_type": "stream",
          "name": "stdout",
          "text": [
            "List of task5: [1, 2, 3, 4, 5]\n"
          ]
        }
      ]
    },
    {
      "cell_type": "code",
      "source": [
        "#QSN-Write a code to append the number 10 to the list [1, 2, 3, 4].\n",
        "task6 = [1, 2, 3, 4]\n",
        "\n",
        "# Print the original list\n",
        "print(\"Original List:\", task6)\n",
        "\n",
        "# Append the number 10 to the list\n",
        "task6.append(10)\n",
        "\n",
        "# Print the updated list\n",
        "print(\"Updated List:\", task6)\n",
        "\n"
      ],
      "metadata": {
        "colab": {
          "base_uri": "https://localhost:8080/"
        },
        "id": "01VqhEBxidc-",
        "outputId": "de6a1d1c-f198-4db2-a50c-7ef1bae21c29"
      },
      "execution_count": null,
      "outputs": [
        {
          "output_type": "stream",
          "name": "stdout",
          "text": [
            "Original List: [1, 2, 3, 4]\n",
            "Updated List: [1, 2, 3, 4, 10]\n"
          ]
        }
      ]
    },
    {
      "cell_type": "code",
      "source": [
        "#QSN-8-Write a code to remove the number 3 from the list [1, 2, 3, 4, 5].\n",
        "task6 = [1, 2, 3, 4, 5]\n",
        "\n",
        "# Print the original list\n",
        "print(\"Original List:\", task6)\n",
        "\n",
        "# Remove the number 3 from the list\n",
        "task6.remove(3)\n",
        "\n",
        "# Print the updated list\n",
        "print(\"Updated List:\", task6)"
      ],
      "metadata": {
        "colab": {
          "base_uri": "https://localhost:8080/"
        },
        "id": "_KmY_FuxjUg0",
        "outputId": "dd8b9098-8c60-4223-f61e-9a14f32c7f7e"
      },
      "execution_count": null,
      "outputs": [
        {
          "output_type": "stream",
          "name": "stdout",
          "text": [
            "Original List: [1, 2, 3, 4, 5]\n",
            "Updated List: [1, 2, 4, 5]\n"
          ]
        }
      ]
    },
    {
      "cell_type": "code",
      "source": [
        "#QSN-9-Write a code to access the second element in the list ['a', 'b', 'c', 'd'].\n",
        "task7 = ['a', 'b', 'c', 'd']\n",
        "\n",
        "# Access the second element\n",
        "second_element = task7[1]\n",
        "\n",
        "# Print the second element\n",
        "print(\"Second element:\", second_element)\n",
        "\n"
      ],
      "metadata": {
        "colab": {
          "base_uri": "https://localhost:8080/"
        },
        "id": "vPmQDmkmj4np",
        "outputId": "becf04d6-50d4-47b4-ba34-3486c3b6dbdc"
      },
      "execution_count": null,
      "outputs": [
        {
          "output_type": "stream",
          "name": "stdout",
          "text": [
            "Second element: b\n"
          ]
        }
      ]
    },
    {
      "cell_type": "code",
      "source": [
        "#QSN-10-Write a code to reverse the list [10, 20, 30, 40, 50].\n",
        "task8 = [10, 20, 30, 40, 50]\n",
        "print(\"Original List:\", task8)\n",
        "task8.reverse()\n",
        "print(\"Reversed List:\", task8)\n",
        "\n",
        "\n"
      ],
      "metadata": {
        "id": "866T51kfkgGG",
        "colab": {
          "base_uri": "https://localhost:8080/"
        },
        "outputId": "6d608b10-c4b3-4043-d0e3-75439e5dfbd5"
      },
      "execution_count": 5,
      "outputs": [
        {
          "output_type": "stream",
          "name": "stdout",
          "text": [
            "Original List: [10, 20, 30, 40, 50]\n",
            "Reversed List: [50, 40, 30, 20, 10]\n"
          ]
        }
      ]
    },
    {
      "cell_type": "code",
      "source": [
        "#QSN-11. Write a code to create a tuple with the elements 10, 20, 30 and print it.\n",
        "task9 = (10, 20, 30)\n",
        "type(task9)\n"
      ],
      "metadata": {
        "colab": {
          "base_uri": "https://localhost:8080/"
        },
        "id": "1mCwryCAAmtx",
        "outputId": "897153f9-9991-49ea-93c2-cb8b2aaeb612"
      },
      "execution_count": 6,
      "outputs": [
        {
          "output_type": "execute_result",
          "data": {
            "text/plain": [
              "tuple"
            ]
          },
          "metadata": {},
          "execution_count": 6
        }
      ]
    },
    {
      "cell_type": "code",
      "source": [
        "#QSN-12-Write a code to access the first element of the tuple ('apple', 'banana', 'cherry').\n",
        "fruit_basket=('apple', 'banana', 'cherry')\n",
        "task10=fruit_basket[0]\n",
        "print(task10)"
      ],
      "metadata": {
        "colab": {
          "base_uri": "https://localhost:8080/"
        },
        "id": "gOSUovtOCjek",
        "outputId": "384453e1-bcbc-4306-a62c-bdb000aa7b46"
      },
      "execution_count": 8,
      "outputs": [
        {
          "output_type": "stream",
          "name": "stdout",
          "text": [
            "apple\n"
          ]
        }
      ]
    },
    {
      "cell_type": "code",
      "source": [
        "#QSN-13-Write a code to count how many times the number 2 appears in the tuple (1, 2, 3, 2, 4, 2).\n",
        "tuple_basket=(1, 2, 3, 2, 4, 2)\n",
        "task11=tuple_basket.count(2)\n",
        "print(task11)"
      ],
      "metadata": {
        "colab": {
          "base_uri": "https://localhost:8080/"
        },
        "id": "y1xRJPVADV-j",
        "outputId": "a167487e-b801-46f2-a6bb-6fff8a6a7a66"
      },
      "execution_count": 9,
      "outputs": [
        {
          "output_type": "stream",
          "name": "stdout",
          "text": [
            "3\n"
          ]
        }
      ]
    },
    {
      "cell_type": "code",
      "source": [
        "#QSN-14-Write a code to find the index of the element \"cat\" in the tuple ('dog', 'cat', 'rabbit').\n",
        "pets=('dog', 'cat', 'rabbit')\n",
        "task12=pets.index('cat')\n",
        "print(task12)"
      ],
      "metadata": {
        "colab": {
          "base_uri": "https://localhost:8080/"
        },
        "id": "YF0UeIP3Ez_j",
        "outputId": "b8916145-4939-4d95-d98c-96b0d947d9c9"
      },
      "execution_count": 11,
      "outputs": [
        {
          "output_type": "stream",
          "name": "stdout",
          "text": [
            "1\n"
          ]
        }
      ]
    },
    {
      "cell_type": "code",
      "source": [
        "#QSN-16- Write a code to create a set with the elements 1, 2, 3, 4, 5 and print it.\n",
        "task13={1,2,3,4,5}\n",
        "print(task13)\n",
        "type(task13)"
      ],
      "metadata": {
        "colab": {
          "base_uri": "https://localhost:8080/"
        },
        "id": "JoEQsvSWFn4o",
        "outputId": "023a9da2-b8d1-4182-fb40-c74da741a69f"
      },
      "execution_count": 13,
      "outputs": [
        {
          "output_type": "stream",
          "name": "stdout",
          "text": [
            "{1, 2, 3, 4, 5}\n"
          ]
        },
        {
          "output_type": "execute_result",
          "data": {
            "text/plain": [
              "set"
            ]
          },
          "metadata": {},
          "execution_count": 13
        }
      ]
    },
    {
      "cell_type": "code",
      "source": [
        "#QSN-17-Write a code to add the element 6 to the set {1, 2, 3, 4}\n",
        "task14={1, 2, 3, 4}\n",
        "task14.add(6)\n",
        "print(task14)"
      ],
      "metadata": {
        "colab": {
          "base_uri": "https://localhost:8080/"
        },
        "id": "f1VHecUVGOjR",
        "outputId": "0c805c54-78a2-4a4b-fd07-af474bc1e754"
      },
      "execution_count": 14,
      "outputs": [
        {
          "output_type": "stream",
          "name": "stdout",
          "text": [
            "{1, 2, 3, 4, 6}\n"
          ]
        }
      ]
    },
    {
      "cell_type": "code",
      "source": [
        "#QSN-15-Write a code to check if the element \"banana\" is in the tuple ('apple', 'orange', 'banana').\n",
        "fruit_basket2=('apple', 'orange', 'banana')\n",
        "if 'banana' in fruit_basket2:\n",
        " print('yes')\n",
        "else:\n",
        "  print('no')"
      ],
      "metadata": {
        "colab": {
          "base_uri": "https://localhost:8080/"
        },
        "id": "q-qVFGWLHQee",
        "outputId": "8b2f2c6e-8f44-4a4c-d1c1-d3fa8ce4b11c"
      },
      "execution_count": 17,
      "outputs": [
        {
          "output_type": "stream",
          "name": "stdout",
          "text": [
            "yes\n"
          ]
        }
      ]
    },
    {
      "cell_type": "code",
      "source": [
        "#QSN-18-Write a code to create a tuple with the elements 10, 20, 30 and print it.\n",
        "task15=(10,20,30)\n",
        "print(task15)\n",
        "type(task15)"
      ],
      "metadata": {
        "colab": {
          "base_uri": "https://localhost:8080/"
        },
        "id": "CWioOKN5I5qL",
        "outputId": "3574865a-55e5-49cc-9c73-fe18d6646ddc"
      },
      "execution_count": 18,
      "outputs": [
        {
          "output_type": "stream",
          "name": "stdout",
          "text": [
            "(10, 20, 30)\n"
          ]
        },
        {
          "output_type": "execute_result",
          "data": {
            "text/plain": [
              "tuple"
            ]
          },
          "metadata": {},
          "execution_count": 18
        }
      ]
    },
    {
      "cell_type": "code",
      "source": [
        "#QSN-19-Write a code to access the first element of the tuple ('apple', 'banana', 'cherry')\n",
        "task16=fruit_basket[0]\n",
        "print(task16)"
      ],
      "metadata": {
        "colab": {
          "base_uri": "https://localhost:8080/"
        },
        "id": "hT2kn4zHKJ_A",
        "outputId": "5259db30-f8e5-4294-8a8a-595d7e8c710c"
      },
      "execution_count": 21,
      "outputs": [
        {
          "output_type": "stream",
          "name": "stdout",
          "text": [
            "apple\n"
          ]
        }
      ]
    },
    {
      "cell_type": "code",
      "source": [
        "#QSN-20-Write a code to count how many times the number 2 appears in the tuple (1, 2, 3, 2, 4, 2).(repeat qsn 13)\n",
        "tuple_basket=(1, 2, 3, 2, 4, 2)\n",
        "task11=tuple_basket.count(2)\n",
        "print(task11)"
      ],
      "metadata": {
        "colab": {
          "base_uri": "https://localhost:8080/"
        },
        "id": "EA_6GMECK2Fu",
        "outputId": "fb222e08-c521-4777-f08d-5e0a2aa080a9"
      },
      "execution_count": 22,
      "outputs": [
        {
          "output_type": "stream",
          "name": "stdout",
          "text": [
            "3\n"
          ]
        }
      ]
    },
    {
      "cell_type": "code",
      "source": [
        "#QSN-21-Write a code to find the index of the element \"cat\" in the tuple ('dog', 'cat', 'rabbit').(Repeat qsn 14)\n",
        "pets=('dog', 'cat', 'rabbit')\n",
        "task12=pets.index('cat')\n",
        "print(task12)"
      ],
      "metadata": {
        "colab": {
          "base_uri": "https://localhost:8080/"
        },
        "id": "eS9SWXU6Ljto",
        "outputId": "91c0c233-b931-4d56-d758-693d499e8676"
      },
      "execution_count": 23,
      "outputs": [
        {
          "output_type": "stream",
          "name": "stdout",
          "text": [
            "1\n"
          ]
        }
      ]
    },
    {
      "cell_type": "code",
      "source": [
        "#QSN-22-Write a code to check if the element \"banana\" is in the tuple ('apple', 'orange', 'banana').(Repeat qsn 15)\n",
        "fruit_basket2=('apple', 'orange', 'banana')\n",
        "if 'banana' in fruit_basket2:\n",
        " print('yes')\n",
        "else:\n",
        "  print('no')"
      ],
      "metadata": {
        "colab": {
          "base_uri": "https://localhost:8080/"
        },
        "id": "o57Nlfy6MBXD",
        "outputId": "cd850ad5-a6a1-4700-8586-1eef0b4bf5d0"
      },
      "execution_count": 24,
      "outputs": [
        {
          "output_type": "stream",
          "name": "stdout",
          "text": [
            "yes\n"
          ]
        }
      ]
    },
    {
      "cell_type": "code",
      "source": [
        "#QSN-23- Write a code to create a set with the elements 1, 2, 3, 4, 5 and print it.(Repeat qsn 16)\n",
        "task13={1,2,3,4,5}\n",
        "print(task13)\n",
        "type(task13)"
      ],
      "metadata": {
        "colab": {
          "base_uri": "https://localhost:8080/"
        },
        "id": "o--9XIhqMXP-",
        "outputId": "dcb9854d-7164-4792-e3e0-f83867519694"
      },
      "execution_count": 25,
      "outputs": [
        {
          "output_type": "stream",
          "name": "stdout",
          "text": [
            "{1, 2, 3, 4, 5}\n"
          ]
        },
        {
          "output_type": "execute_result",
          "data": {
            "text/plain": [
              "set"
            ]
          },
          "metadata": {},
          "execution_count": 25
        }
      ]
    },
    {
      "cell_type": "code",
      "source": [
        "#QSN-24-Write a code to add the element 6 to the set {1, 2, 3, 4}.(Repeat qsn 17)\n",
        "task14={1, 2, 3, 4}\n",
        "task14.add(6)\n",
        "print(task14)"
      ],
      "metadata": {
        "colab": {
          "base_uri": "https://localhost:8080/"
        },
        "id": "6wEVz64kM3RG",
        "outputId": "2a5abafa-b2ef-483c-9da3-e62a69d2a6fe"
      },
      "execution_count": 26,
      "outputs": [
        {
          "output_type": "stream",
          "name": "stdout",
          "text": [
            "{1, 2, 3, 4, 6}\n"
          ]
        }
      ]
    },
    {
      "cell_type": "code",
      "source": [],
      "metadata": {
        "id": "dVWbARKJNBZK"
      },
      "execution_count": null,
      "outputs": []
    }
  ]
}